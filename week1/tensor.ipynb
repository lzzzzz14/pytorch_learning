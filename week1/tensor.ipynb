{
 "cells": [
  {
   "cell_type": "code",
   "execution_count": 1,
   "id": "5870d1d1",
   "metadata": {},
   "outputs": [],
   "source": [
    "import torch\n",
    "import numpy as np"
   ]
  },
  {
   "cell_type": "code",
   "execution_count": 2,
   "id": "2a9ef523",
   "metadata": {},
   "outputs": [],
   "source": [
    "# Tensor创建的方法\n",
    "# 1.torch.tensor()\n",
    "# 2.torch.from_numpy(ndarry)\n",
    "# 3.torch.zeros(), torch.zeros_like\n",
    "# 4.torch.full()\n",
    "# 5.torch.arange()\n",
    "# 6.torch.linspace()\n",
    "# 7.torch.logspace()\n",
    "# 8.torch.eye()\n",
    "# 9.torch.normal()\n",
    "#10.torch.randn(), torch.randn_like()\n",
    "#11.torch.randint(), torch,randint_like()\n",
    "#12.torch.randperm()\n",
    "#13.torch.bernoulli()"
   ]
  },
  {
   "cell_type": "code",
   "execution_count": 8,
   "id": "91f23d90",
   "metadata": {},
   "outputs": [
    {
     "name": "stdout",
     "output_type": "stream",
     "text": [
      "ndarry的数据类型:  float64\n",
      "tensor([[1., 1., 1.],\n",
      "        [1., 1., 1.],\n",
      "        [1., 1., 1.]], dtype=torch.float64)\n"
     ]
    }
   ],
   "source": [
    "# torch.tensor(data, dtype=None, device=None, requires_grad=False, pin_memory=False)\n",
    "arr = np.ones((3, 3))\n",
    "print(\"ndarry的数据类型: \", arr.dtype)\n",
    "# 创建放在 GPU 的数据\n",
    "# t = torch.tensor(arr, device='cuda')\n",
    "t = torch.tensor(arr)\n",
    "print(t)"
   ]
  },
  {
   "cell_type": "code",
   "execution_count": 9,
   "id": "f010277c",
   "metadata": {},
   "outputs": [
    {
     "name": "stdout",
     "output_type": "stream",
     "text": [
      "\n",
      "修改tensor\n",
      "numpy array:  [[-1  2  3]\n",
      " [ 4  5  6]]\n",
      "tensor :  tensor([[-1,  2,  3],\n",
      "        [ 4,  5,  6]])\n"
     ]
    }
   ],
   "source": [
    "arr = np.array([[1, 2, 3], [4, 5, 6]])\n",
    "t = torch.from_numpy(arr)\n",
    "\n",
    "# 修改 array，tensor 也会被修改\n",
    "# print(\"\\n修改arr\")\n",
    "# arr[0, 0] = 0\n",
    "# print(\"numpy array: \", arr)\n",
    "# print(\"tensor : \", t)\n",
    "\n",
    "# 修改 tensor，array 也会被修改\n",
    "print(\"\\n修改tensor\")\n",
    "t[0, 0] = -1\n",
    "print(\"numpy array: \", arr)\n",
    "print(\"tensor : \", t)"
   ]
  },
  {
   "cell_type": "code",
   "execution_count": 10,
   "id": "c20b754a",
   "metadata": {},
   "outputs": [
    {
     "name": "stdout",
     "output_type": "stream",
     "text": [
      "tensor([[0, 0, 0],\n",
      "        [0, 0, 0],\n",
      "        [0, 0, 0]]) \n",
      " tensor([[0, 0, 0],\n",
      "        [0, 0, 0],\n",
      "        [0, 0, 0]])\n",
      "4474888896 4474888896 True\n"
     ]
    }
   ],
   "source": [
    "# torch.zeros(*size, out=None, dtype=None, layout=torch.strided, device=None, requires_grad=False)\n",
    "out_t = torch.tensor([1])\n",
    "# 这里制定了 out\n",
    "t = torch.zeros((3, 3), out=out_t)\n",
    "print(t, \"\\n\", out_t)\n",
    "# id 是取内存地址。最终 t 和 out_t 是同一个内存地址\n",
    "print(id(t), id(out_t), id(t) == id(out_t))"
   ]
  },
  {
   "cell_type": "code",
   "execution_count": 11,
   "id": "5a5da11d",
   "metadata": {},
   "outputs": [],
   "source": [
    "# torch.zeros_like(input, dtype=None, layout=None, device=None, requires_grad=False, memory_format=torch.preserve_format)"
   ]
  },
  {
   "cell_type": "code",
   "execution_count": 12,
   "id": "7120f014",
   "metadata": {},
   "outputs": [
    {
     "data": {
      "text/plain": [
       "tensor([[1, 1, 1],\n",
       "        [1, 1, 1],\n",
       "        [1, 1, 1]])"
      ]
     },
     "execution_count": 12,
     "metadata": {},
     "output_type": "execute_result"
    }
   ],
   "source": [
    "# torch.full(size, fill_value, out=None, dtype=None, layout=torch.strided, device=None, requires_grad=False)\n",
    "t = torch.full((3, 3), 1)\n",
    "t"
   ]
  },
  {
   "cell_type": "code",
   "execution_count": 14,
   "id": "aa32b354",
   "metadata": {},
   "outputs": [
    {
     "data": {
      "text/plain": [
       "tensor([2, 4, 6, 8])"
      ]
     },
     "execution_count": 14,
     "metadata": {},
     "output_type": "execute_result"
    }
   ],
   "source": [
    "# torch.arange(start=0, end, step=1, out=None, dtype=None, layout=torch.strided, device=None, requires_grad=False)\n",
    "t = torch.arange(2, 10, 2)\n",
    "t"
   ]
  },
  {
   "cell_type": "code",
   "execution_count": 15,
   "id": "2c89126f",
   "metadata": {},
   "outputs": [
    {
     "data": {
      "text/plain": [
       "tensor([ 2.0000,  3.6000,  5.2000,  6.8000,  8.4000, 10.0000])"
      ]
     },
     "execution_count": 15,
     "metadata": {},
     "output_type": "execute_result"
    }
   ],
   "source": [
    "# torch.linspace(start, end, steps=100, out=None, dtype=None, layout=torch.strided, device=None, requires_grad=False)\n",
    "# t = torch.linspace(2, 10, 5)\n",
    "t = torch.linspace(2, 10, 6)\n",
    "t"
   ]
  },
  {
   "cell_type": "code",
   "execution_count": 21,
   "id": "47299dfc",
   "metadata": {},
   "outputs": [
    {
     "name": "stdout",
     "output_type": "stream",
     "text": [
      "tensor([1.0000e+02, 3.9811e+03, 1.5849e+05, 6.3096e+06, 2.5119e+08, 1.0000e+10])\n"
     ]
    }
   ],
   "source": [
    "# torch.logspace(start, end, steps=100, base=10.0, out=None, dtype=None, layout=torch.strided, device=None, requires_grad=False)\n",
    "# t = torch.logspace(2, 10, 5)\n",
    "t = torch.logspace(2, 10, 6)\n",
    "print(t)"
   ]
  },
  {
   "cell_type": "code",
   "execution_count": 22,
   "id": "fef9337a",
   "metadata": {},
   "outputs": [],
   "source": [
    "# torch.eye(n, m=None, out=None, dtype=None, layout=torch.strided, device=None, requires_grad=False)"
   ]
  },
  {
   "cell_type": "code",
   "execution_count": 23,
   "id": "269e8342",
   "metadata": {},
   "outputs": [
    {
     "data": {
      "text/plain": [
       "tensor([-1.5304,  0.6029, -2.0436, -0.6272])"
      ]
     },
     "execution_count": 23,
     "metadata": {},
     "output_type": "execute_result"
    }
   ],
   "source": [
    "# torch.normal(mean, std, *, generator=None, out=None)\n",
    "# 1. mean 为标量，std 为标量。这时需要设置 size。\n",
    "t_normal = torch.normal(0., 1., size=(4,))\n",
    "t_normal"
   ]
  },
  {
   "cell_type": "code",
   "execution_count": 27,
   "id": "1a6bf159",
   "metadata": {},
   "outputs": [
    {
     "name": "stdout",
     "output_type": "stream",
     "text": [
      "mean:tensor([1., 2., 3., 4.])\n",
      "std:1\n",
      "tensor([0.3655, 0.8311, 3.1795, 5.2464])\n"
     ]
    }
   ],
   "source": [
    "# 2.mean 为标量，std 为张量\n",
    "# 3.mean 为张量，std 为标量\n",
    "mean = torch.arange(1, 5, dtype=torch.float)\n",
    "std = 1\n",
    "t_normal = torch.normal(mean, std)\n",
    "print(\"mean:{}\\nstd:{}\".format(mean, std))\n",
    "print(t_normal)"
   ]
  },
  {
   "cell_type": "code",
   "execution_count": 28,
   "id": "59134a66",
   "metadata": {},
   "outputs": [
    {
     "name": "stdout",
     "output_type": "stream",
     "text": [
      "mean:tensor([1., 2., 3., 4.])\n",
      "std:tensor([1., 2., 3., 4.])\n",
      "tensor([1.1446, 4.2609, 2.4268, 7.6674])\n"
     ]
    }
   ],
   "source": [
    "# 4.mean 为张量，std 为张量\n",
    "mean = torch.arange(1, 5, dtype=torch.float)\n",
    "std = torch.arange(1, 5, dtype=torch.float)\n",
    "t_normal = torch.normal(mean, std)\n",
    "print(\"mean:{}\\nstd:{}\".format(mean, std))\n",
    "print(t_normal)"
   ]
  },
  {
   "cell_type": "code",
   "execution_count": 29,
   "id": "7c11a5ee",
   "metadata": {},
   "outputs": [],
   "source": [
    "# torch.randn(*size, out=None, dtype=None, layout=torch.strided, device=None, requires_grad=False)"
   ]
  },
  {
   "cell_type": "code",
   "execution_count": 31,
   "id": "313d8ff7",
   "metadata": {},
   "outputs": [],
   "source": [
    "# randint(low=0, high, size, *, generator=None, out=None, dtype=None, layout=torch.strided, device=None, requires_grad=False)"
   ]
  },
  {
   "cell_type": "code",
   "execution_count": 32,
   "id": "28967af9",
   "metadata": {},
   "outputs": [],
   "source": [
    "# torch.randperm(n, out=None, dtype=torch.int64, layout=torch.strided, device=None, requires_grad=False)"
   ]
  },
  {
   "cell_type": "code",
   "execution_count": 33,
   "id": "a63b3388",
   "metadata": {},
   "outputs": [],
   "source": [
    "# torch.bernoulli(input, *, generator=None, out=None)"
   ]
  }
 ],
 "metadata": {
  "kernelspec": {
   "display_name": "Python 3 (ipykernel)",
   "language": "python",
   "name": "python3"
  },
  "language_info": {
   "codemirror_mode": {
    "name": "ipython",
    "version": 3
   },
   "file_extension": ".py",
   "mimetype": "text/x-python",
   "name": "python",
   "nbconvert_exporter": "python",
   "pygments_lexer": "ipython3",
   "version": "3.8.13"
  }
 },
 "nbformat": 4,
 "nbformat_minor": 5
}
