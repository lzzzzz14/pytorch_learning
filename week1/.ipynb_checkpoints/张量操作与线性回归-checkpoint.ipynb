{
 "cells": [
  {
   "cell_type": "code",
   "execution_count": 5,
   "id": "3de11839",
   "metadata": {},
   "outputs": [],
   "source": [
    "import torch"
   ]
  },
  {
   "cell_type": "code",
   "execution_count": 6,
   "id": "a7302b52",
   "metadata": {
    "scrolled": true
   },
   "outputs": [
    {
     "name": "stdout",
     "output_type": "stream",
     "text": [
      "t_0:tensor([[1., 1., 1.],\n",
      "        [1., 1., 1.],\n",
      "        [1., 1., 1.],\n",
      "        [1., 1., 1.]]) shape:torch.Size([4, 3])\n",
      "t_1:tensor([[1., 1., 1., 1., 1., 1.],\n",
      "        [1., 1., 1., 1., 1., 1.]]) shape;torch.Size([2, 6])\n"
     ]
    }
   ],
   "source": [
    "# torch.cat(tensors, dim=0, out=None)\n",
    "t = torch.ones((2, 3))\n",
    "t_0 = torch.cat([t, t], dim=0)\n",
    "t_1 = torch.cat([t, t], dim=1)\n",
    "print(\"t_0:{} shape:{}\\nt_1:{} shape;{}\".format(t_0, t_0.shape, t_1, t_1.shape))"
   ]
  },
  {
   "cell_type": "code",
   "execution_count": 17,
   "id": "ab77062a",
   "metadata": {},
   "outputs": [
    {
     "name": "stdout",
     "output_type": "stream",
     "text": [
      "\n",
      "t_stack2.shape:torch.Size([2, 3, 3])\n",
      "\n",
      "t_stack0.shape:torch.Size([3, 2, 3])\n",
      "\n",
      "t_stack1.shape;torch.Size([2, 4, 3])\n"
     ]
    }
   ],
   "source": [
    "# torch.stack(tensors, dim=0, out=None)\n",
    "t = torch.ones((2, 3))\n",
    "# dim =2\n",
    "t_stack2 = torch.stack([t, t, t], dim=2)\n",
    "print('\\nt_stack2.shape:{}'.format(t_stack2.shape))\n",
    "# dim =0\n",
    "t_stack0 = torch.stack([t, t, t], dim=0)\n",
    "print(\"\\nt_stack0.shape:{}\".format(t_stack0.shape))\n",
    "t, t_stack2, t_stack0\n",
    "# dim =1\n",
    "t_stack1 = torch.stack([t, t, t, t], dim=1)\n",
    "print('\\nt_stack1.shape;{}'.format(t_stack1.shape))"
   ]
  },
  {
   "cell_type": "code",
   "execution_count": 18,
   "id": "ffdab860",
   "metadata": {},
   "outputs": [
    {
     "name": "stdout",
     "output_type": "stream",
     "text": [
      "第1个张量：tensor([[1., 1., 1.],\n",
      "        [1., 1., 1.]]), shape is torch.Size([2, 3])\n",
      "第2个张量：tensor([[1., 1., 1.],\n",
      "        [1., 1., 1.]]), shape is torch.Size([2, 3])\n",
      "第3个张量：tensor([[1.],\n",
      "        [1.]]), shape is torch.Size([2, 1])\n"
     ]
    }
   ],
   "source": [
    "# torch.chunk(input, chunks, dim=0)\n",
    "a = torch.ones((2, 7))  # 7\n",
    "list_of_tensors = torch.chunk(a, dim=1, chunks=3)  # 3\n",
    "for idx, t in enumerate(list_of_tensors):\n",
    "    print(\"第{}个张量：{}, shape is {}\".format(idx+1, t, t.shape))"
   ]
  }
 ],
 "metadata": {
  "kernelspec": {
   "display_name": "Python 3 (ipykernel)",
   "language": "python",
   "name": "python3"
  },
  "language_info": {
   "codemirror_mode": {
    "name": "ipython",
    "version": 3
   },
   "file_extension": ".py",
   "mimetype": "text/x-python",
   "name": "python",
   "nbconvert_exporter": "python",
   "pygments_lexer": "ipython3",
   "version": "3.8.13"
  }
 },
 "nbformat": 4,
 "nbformat_minor": 5
}
