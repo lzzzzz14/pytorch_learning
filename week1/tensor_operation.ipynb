{
 "cells": [
  {
   "cell_type": "code",
   "execution_count": 2,
   "id": "0ada5fd6",
   "metadata": {},
   "outputs": [],
   "source": [
    "import torch"
   ]
  },
  {
   "cell_type": "code",
   "execution_count": 6,
   "id": "21a2d9d9",
   "metadata": {
    "scrolled": true
   },
   "outputs": [
    {
     "name": "stdout",
     "output_type": "stream",
     "text": [
      "t_0:tensor([[1., 1., 1.],\n",
      "        [1., 1., 1.],\n",
      "        [1., 1., 1.],\n",
      "        [1., 1., 1.]]) shape:torch.Size([4, 3])\n",
      "t_1:tensor([[1., 1., 1., 1., 1., 1.],\n",
      "        [1., 1., 1., 1., 1., 1.]]) shape;torch.Size([2, 6])\n"
     ]
    }
   ],
   "source": [
    "# torch.cat(tensors, dim=0, out=None)\n",
    "t = torch.ones((2, 3))\n",
    "t_0 = torch.cat([t, t], dim=0)\n",
    "t_1 = torch.cat([t, t], dim=1)\n",
    "print(\"t_0:{} shape:{}\\nt_1:{} shape;{}\".format(t_0, t_0.shape, t_1, t_1.shape))"
   ]
  },
  {
   "cell_type": "code",
   "execution_count": 17,
   "id": "1a937cb7",
   "metadata": {},
   "outputs": [
    {
     "name": "stdout",
     "output_type": "stream",
     "text": [
      "\n",
      "t_stack2.shape:torch.Size([2, 3, 3])\n",
      "\n",
      "t_stack0.shape:torch.Size([3, 2, 3])\n",
      "\n",
      "t_stack1.shape;torch.Size([2, 4, 3])\n"
     ]
    }
   ],
   "source": [
    "# torch.stack(tensors, dim=0, out=None)\n",
    "t = torch.ones((2, 3))\n",
    "# dim =2\n",
    "t_stack2 = torch.stack([t, t, t], dim=2)\n",
    "print('\\nt_stack2.shape:{}'.format(t_stack2.shape))\n",
    "# dim =0\n",
    "t_stack0 = torch.stack([t, t, t], dim=0)\n",
    "print(\"\\nt_stack0.shape:{}\".format(t_stack0.shape))\n",
    "t, t_stack2, t_stack0\n",
    "# dim =1\n",
    "t_stack1 = torch.stack([t, t, t, t], dim=1)\n",
    "print('\\nt_stack1.shape;{}'.format(t_stack1.shape))"
   ]
  },
  {
   "cell_type": "code",
   "execution_count": 20,
   "id": "0864cbcf",
   "metadata": {},
   "outputs": [
    {
     "name": "stdout",
     "output_type": "stream",
     "text": [
      "第1个张量：tensor([[1., 1., 1.],\n",
      "        [1., 1., 1.]]), shape is torch.Size([2, 3])\n",
      "第2个张量：tensor([[1., 1., 1.],\n",
      "        [1., 1., 1.]]), shape is torch.Size([2, 3])\n",
      "第3个张量：tensor([[1.],\n",
      "        [1.]]), shape is torch.Size([2, 1])\n"
     ]
    }
   ],
   "source": [
    "# torch.chunk(input, chunks, dim=0)\n",
    "a = torch.ones((2, 7))  # 7\n",
    "list_of_tensors = torch.chunk(a, dim=1, chunks=3)  # 3\n",
    "for idx, t in enumerate(list_of_tensors):\n",
    "    print(\"第{}个张量：{}, shape is {}\".format(idx+1, t, t.shape))"
   ]
  },
  {
   "cell_type": "code",
   "execution_count": 23,
   "id": "2a68b802",
   "metadata": {},
   "outputs": [
    {
     "name": "stdout",
     "output_type": "stream",
     "text": [
      "第1个张量：tensor([[1., 1.],\n",
      "        [1., 1.]]), shape is torch.Size([2, 2])\n",
      "第2个张量：tensor([[1.],\n",
      "        [1.]]), shape is torch.Size([2, 1])\n",
      "第3个张量：tensor([[1., 1.],\n",
      "        [1., 1.]]), shape is torch.Size([2, 2])\n"
     ]
    }
   ],
   "source": [
    "# torch.split(tensor, split_size_or_sections, dim=0)\n",
    "t = torch.ones((2, 5))\n",
    "list_of_tensors = torch.split(t, [2, 1, 2], dim=1)\n",
    "for idx, t in enumerate(list_of_tensors):\n",
    "    print(\"第{}个张量：{}, shape is {}\".format(idx+1, t, t.shape))"
   ]
  },
  {
   "cell_type": "code",
   "execution_count": 34,
   "id": "d38f0e63",
   "metadata": {},
   "outputs": [
    {
     "name": "stdout",
     "output_type": "stream",
     "text": [
      "t:\n",
      "tensor([[7, 6, 7],\n",
      "        [5, 4, 8],\n",
      "        [5, 4, 5]])\n",
      "t_select:\n",
      "tensor([[7, 6, 7],\n",
      "        [5, 4, 5]])\n"
     ]
    }
   ],
   "source": [
    "# torch.index_select(input, dim, index, out=None)\n",
    "# 创建均匀分布\n",
    "t = torch.randint(0, 9, size=(3, 3))\n",
    "# 注意 idx 的 dtype 不能指定为 torch.float\n",
    "idx = torch.tensor([0, 2], dtype=torch.long)\n",
    "# 取出第0行和第2行\n",
    "t_select = torch.index_select(t, dim=0, index=idx)\n",
    "print(\"t:\\n{}\\nt_select:\\n{}\".format(t, t_select))"
   ]
  },
  {
   "cell_type": "code",
   "execution_count": 22,
   "id": "c76a5f4b",
   "metadata": {},
   "outputs": [
    {
     "name": "stdout",
     "output_type": "stream",
     "text": [
      "t:\n",
      "tensor([[4, 8, 7],\n",
      "        [6, 5, 7],\n",
      "        [1, 8, 6]])\n",
      "mask:tensor([[ True, False, False],\n",
      "        [False, False, False],\n",
      "        [ True, False, False]])\n",
      "t_select:\n",
      "tensor([4, 1])\n"
     ]
    }
   ],
   "source": [
    "# torch.masked_select(input, mask, out=None)\n",
    "t = torch.randint(0, 9, size=(3, 3))\n",
    "mask = t.lt(5)  # ge is mean greater than or equal/    gt: greater than le lt\n",
    "# 取出大于5的数\n",
    "t_select = torch.masked_select(t, mask)\n",
    "print(\"t:\\n{}\\nmask:{}\\nt_select:\\n{}\".format(t, mask, t_select))"
   ]
  },
  {
   "cell_type": "code",
   "execution_count": 27,
   "id": "71ee862a",
   "metadata": {},
   "outputs": [
    {
     "name": "stdout",
     "output_type": "stream",
     "text": [
      "t:tensor([0, 3, 5, 6, 2, 1, 7, 4])\n",
      "t_reshape:tensor([[[0, 3],\n",
      "         [5, 6]],\n",
      "\n",
      "        [[2, 1],\n",
      "         [7, 4]]])\n",
      "t.shape:torch.Size([8])\n",
      "t_reshape:torch.Size([2, 2, 2])\n"
     ]
    }
   ],
   "source": [
    "# torch.reshape(input, shape)\n",
    "# 生成 0 到 8 的随机排列\n",
    "t = torch.randperm(8)\n",
    "# -1 表示这个维度是根据其他维度计算的出\n",
    "t_reshape = torch.reshape(t, (-1, 2, 2))\n",
    "print(\"t:{}\\nt_reshape:{}\\nt.shape:{}\\nt_reshape:{}\".format(t, t_reshape, t.shape, t_reshape.shape))"
   ]
  },
  {
   "cell_type": "code",
   "execution_count": 28,
   "id": "ce57cc94",
   "metadata": {},
   "outputs": [
    {
     "name": "stdout",
     "output_type": "stream",
     "text": [
      "t:tensor([1024,    3,    5,    6,    2,    1,    7,    4])\n",
      "t_reshape:\n",
      "tensor([[[1024,    3],\n",
      "         [   5,    6]],\n",
      "\n",
      "        [[   2,    1],\n",
      "         [   7,    4]]])\n",
      "t.data 内存地址:4478286080\n",
      "t_reshape.data 内存地址:4478286080\n"
     ]
    }
   ],
   "source": [
    "# 修改张量 t 的第 0 个元素，张量 t_reshape 也会被改变\n",
    "t[0] = 1024\n",
    "print(\"t:{}\\nt_reshape:\\n{}\".format(t, t_reshape))\n",
    "print(\"t.data 内存地址:{}\".format(id(t.data)))\n",
    "print(\"t_reshape.data 内存地址:{}\".format(id(t_reshape.data)))"
   ]
  },
  {
   "cell_type": "code",
   "execution_count": null,
   "id": "2bc905e3",
   "metadata": {},
   "outputs": [],
   "source": []
  }
 ],
 "metadata": {
  "kernelspec": {
   "display_name": "Python 3 (ipykernel)",
   "language": "python",
   "name": "python3"
  },
  "language_info": {
   "codemirror_mode": {
    "name": "ipython",
    "version": 3
   },
   "file_extension": ".py",
   "mimetype": "text/x-python",
   "name": "python",
   "nbconvert_exporter": "python",
   "pygments_lexer": "ipython3",
   "version": "3.8.13"
  }
 },
 "nbformat": 4,
 "nbformat_minor": 5
}
