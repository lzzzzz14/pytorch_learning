{
 "cells": [
  {
   "cell_type": "code",
   "execution_count": 5,
   "id": "ef40b0f0",
   "metadata": {},
   "outputs": [],
   "source": [
    "import torch"
   ]
  },
  {
   "cell_type": "code",
   "execution_count": 6,
   "id": "3bea225b",
   "metadata": {
    "scrolled": true
   },
   "outputs": [
    {
     "name": "stdout",
     "output_type": "stream",
     "text": [
      "t_0:tensor([[1., 1., 1.],\n",
      "        [1., 1., 1.],\n",
      "        [1., 1., 1.],\n",
      "        [1., 1., 1.]]) shape:torch.Size([4, 3])\n",
      "t_1:tensor([[1., 1., 1., 1., 1., 1.],\n",
      "        [1., 1., 1., 1., 1., 1.]]) shape;torch.Size([2, 6])\n"
     ]
    }
   ],
   "source": [
    "# torch.cat(tensors, dim=0, out=None)\n",
    "t = torch.ones((2, 3))\n",
    "t_0 = torch.cat([t, t], dim=0)\n",
    "t_1 = torch.cat([t, t], dim=1)\n",
    "print(\"t_0:{} shape:{}\\nt_1:{} shape;{}\".format(t_0, t_0.shape, t_1, t_1.shape))"
   ]
  },
  {
   "cell_type": "code",
   "execution_count": 17,
   "id": "95caca23",
   "metadata": {},
   "outputs": [
    {
     "name": "stdout",
     "output_type": "stream",
     "text": [
      "\n",
      "t_stack2.shape:torch.Size([2, 3, 3])\n",
      "\n",
      "t_stack0.shape:torch.Size([3, 2, 3])\n",
      "\n",
      "t_stack1.shape;torch.Size([2, 4, 3])\n"
     ]
    }
   ],
   "source": [
    "# torch.stack(tensors, dim=0, out=None)\n",
    "t = torch.ones((2, 3))\n",
    "# dim =2\n",
    "t_stack2 = torch.stack([t, t, t], dim=2)\n",
    "print('\\nt_stack2.shape:{}'.format(t_stack2.shape))\n",
    "# dim =0\n",
    "t_stack0 = torch.stack([t, t, t], dim=0)\n",
    "print(\"\\nt_stack0.shape:{}\".format(t_stack0.shape))\n",
    "t, t_stack2, t_stack0\n",
    "# dim =1\n",
    "t_stack1 = torch.stack([t, t, t, t], dim=1)\n",
    "print('\\nt_stack1.shape;{}'.format(t_stack1.shape))"
   ]
  }
 ],
 "metadata": {
  "kernelspec": {
   "display_name": "Python 3 (ipykernel)",
   "language": "python",
   "name": "python3"
  },
  "language_info": {
   "codemirror_mode": {
    "name": "ipython",
    "version": 3
   },
   "file_extension": ".py",
   "mimetype": "text/x-python",
   "name": "python",
   "nbconvert_exporter": "python",
   "pygments_lexer": "ipython3",
   "version": "3.8.13"
  }
 },
 "nbformat": 4,
 "nbformat_minor": 5
}
